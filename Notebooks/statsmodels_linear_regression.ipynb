{
 "cells": [
  {
   "cell_type": "code",
   "execution_count": 13,
   "metadata": {},
   "outputs": [],
   "source": [
    "import pandas as pd \n",
    "import matplotlib.pyplot as plt \n",
    "import seaborn as sns \n",
    "from sklearn.model_selection import train_test_split\n",
    "from sklearn.datasets import fetch_california_housing\n",
    "import statsmodels.api as sm"
   ]
  },
  {
   "cell_type": "code",
   "execution_count": 14,
   "metadata": {},
   "outputs": [],
   "source": [
    "data = fetch_california_housing()\n",
    "df = pd.DataFrame(data.data, columns = data.feature_names)"
   ]
  },
  {
   "cell_type": "code",
   "execution_count": 15,
   "metadata": {},
   "outputs": [],
   "source": [
    "df[\"Target\"] = data.target\n",
    "X,y = df.drop(\"Target\", axis=1), df[\"Target\"]"
   ]
  },
  {
   "cell_type": "code",
   "execution_count": 16,
   "metadata": {},
   "outputs": [],
   "source": [
    "X_train, X_test, y_train, y_test = train_test_split(X,y, test_size=0.2)"
   ]
  },
  {
   "cell_type": "code",
   "execution_count": 17,
   "metadata": {},
   "outputs": [],
   "source": [
    "X_train_const = sm.add_constant(X_train)\n",
    "X_test_const = sm.add_constant(X_test)\n",
    "\n",
    "model = sm.OLS(y_train, X_train_const).fit()"
   ]
  },
  {
   "cell_type": "code",
   "execution_count": 21,
   "metadata": {},
   "outputs": [
    {
     "data": {
      "text/html": [
       "<table class=\"simpletable\">\n",
       "<caption>OLS Regression Results</caption>\n",
       "<tr>\n",
       "  <th>Dep. Variable:</th>         <td>Target</td>      <th>  R-squared:         </th> <td>   0.606</td> \n",
       "</tr>\n",
       "<tr>\n",
       "  <th>Model:</th>                   <td>OLS</td>       <th>  Adj. R-squared:    </th> <td>   0.606</td> \n",
       "</tr>\n",
       "<tr>\n",
       "  <th>Method:</th>             <td>Least Squares</td>  <th>  F-statistic:       </th> <td>   3178.</td> \n",
       "</tr>\n",
       "<tr>\n",
       "  <th>Date:</th>             <td>Mon, 14 Apr 2025</td> <th>  Prob (F-statistic):</th>  <td>  0.00</td>  \n",
       "</tr>\n",
       "<tr>\n",
       "  <th>Time:</th>                 <td>18:33:06</td>     <th>  Log-Likelihood:    </th> <td> -18064.</td> \n",
       "</tr>\n",
       "<tr>\n",
       "  <th>No. Observations:</th>      <td> 16512</td>      <th>  AIC:               </th> <td>3.615e+04</td>\n",
       "</tr>\n",
       "<tr>\n",
       "  <th>Df Residuals:</th>          <td> 16503</td>      <th>  BIC:               </th> <td>3.622e+04</td>\n",
       "</tr>\n",
       "<tr>\n",
       "  <th>Df Model:</th>              <td>     8</td>      <th>                     </th>     <td> </td>    \n",
       "</tr>\n",
       "<tr>\n",
       "  <th>Covariance Type:</th>      <td>nonrobust</td>    <th>                     </th>     <td> </td>    \n",
       "</tr>\n",
       "</table>\n",
       "<table class=\"simpletable\">\n",
       "<tr>\n",
       "       <td></td>         <th>coef</th>     <th>std err</th>      <th>t</th>      <th>P>|t|</th>  <th>[0.025</th>    <th>0.975]</th>  \n",
       "</tr>\n",
       "<tr>\n",
       "  <th>const</th>      <td>  -36.7514</td> <td>    0.739</td> <td>  -49.737</td> <td> 0.000</td> <td>  -38.200</td> <td>  -35.303</td>\n",
       "</tr>\n",
       "<tr>\n",
       "  <th>MedInc</th>     <td>    0.4394</td> <td>    0.005</td> <td>   92.069</td> <td> 0.000</td> <td>    0.430</td> <td>    0.449</td>\n",
       "</tr>\n",
       "<tr>\n",
       "  <th>HouseAge</th>   <td>    0.0093</td> <td>    0.000</td> <td>   18.628</td> <td> 0.000</td> <td>    0.008</td> <td>    0.010</td>\n",
       "</tr>\n",
       "<tr>\n",
       "  <th>AveRooms</th>   <td>   -0.1156</td> <td>    0.007</td> <td>  -17.058</td> <td> 0.000</td> <td>   -0.129</td> <td>   -0.102</td>\n",
       "</tr>\n",
       "<tr>\n",
       "  <th>AveBedrms</th>  <td>    0.6680</td> <td>    0.032</td> <td>   21.125</td> <td> 0.000</td> <td>    0.606</td> <td>    0.730</td>\n",
       "</tr>\n",
       "<tr>\n",
       "  <th>Population</th> <td>-1.743e-06</td> <td> 5.25e-06</td> <td>   -0.332</td> <td> 0.740</td> <td> -1.2e-05</td> <td> 8.54e-06</td>\n",
       "</tr>\n",
       "<tr>\n",
       "  <th>AveOccup</th>   <td>   -0.0048</td> <td>    0.001</td> <td>   -8.378</td> <td> 0.000</td> <td>   -0.006</td> <td>   -0.004</td>\n",
       "</tr>\n",
       "<tr>\n",
       "  <th>Latitude</th>   <td>   -0.4185</td> <td>    0.008</td> <td>  -51.890</td> <td> 0.000</td> <td>   -0.434</td> <td>   -0.403</td>\n",
       "</tr>\n",
       "<tr>\n",
       "  <th>Longitude</th>  <td>   -0.4322</td> <td>    0.008</td> <td>  -51.181</td> <td> 0.000</td> <td>   -0.449</td> <td>   -0.416</td>\n",
       "</tr>\n",
       "</table>\n",
       "<table class=\"simpletable\">\n",
       "<tr>\n",
       "  <th>Omnibus:</th>       <td>3574.994</td> <th>  Durbin-Watson:     </th> <td>   1.981</td> \n",
       "</tr>\n",
       "<tr>\n",
       "  <th>Prob(Omnibus):</th>  <td> 0.000</td>  <th>  Jarque-Bera (JB):  </th> <td>11867.428</td>\n",
       "</tr>\n",
       "<tr>\n",
       "  <th>Skew:</th>           <td> 1.088</td>  <th>  Prob(JB):          </th> <td>    0.00</td> \n",
       "</tr>\n",
       "<tr>\n",
       "  <th>Kurtosis:</th>       <td> 6.538</td>  <th>  Cond. No.          </th> <td>2.41e+05</td> \n",
       "</tr>\n",
       "</table><br/><br/>Notes:<br/>[1] Standard Errors assume that the covariance matrix of the errors is correctly specified.<br/>[2] The condition number is large, 2.41e+05. This might indicate that there are<br/>strong multicollinearity or other numerical problems."
      ],
      "text/latex": [
       "\\begin{center}\n",
       "\\begin{tabular}{lclc}\n",
       "\\toprule\n",
       "\\textbf{Dep. Variable:}    &      Target      & \\textbf{  R-squared:         } &     0.606   \\\\\n",
       "\\textbf{Model:}            &       OLS        & \\textbf{  Adj. R-squared:    } &     0.606   \\\\\n",
       "\\textbf{Method:}           &  Least Squares   & \\textbf{  F-statistic:       } &     3178.   \\\\\n",
       "\\textbf{Date:}             & Mon, 14 Apr 2025 & \\textbf{  Prob (F-statistic):} &     0.00    \\\\\n",
       "\\textbf{Time:}             &     18:33:06     & \\textbf{  Log-Likelihood:    } &   -18064.   \\\\\n",
       "\\textbf{No. Observations:} &       16512      & \\textbf{  AIC:               } & 3.615e+04   \\\\\n",
       "\\textbf{Df Residuals:}     &       16503      & \\textbf{  BIC:               } & 3.622e+04   \\\\\n",
       "\\textbf{Df Model:}         &           8      & \\textbf{                     } &             \\\\\n",
       "\\textbf{Covariance Type:}  &    nonrobust     & \\textbf{                     } &             \\\\\n",
       "\\bottomrule\n",
       "\\end{tabular}\n",
       "\\begin{tabular}{lcccccc}\n",
       "                    & \\textbf{coef} & \\textbf{std err} & \\textbf{t} & \\textbf{P$> |$t$|$} & \\textbf{[0.025} & \\textbf{0.975]}  \\\\\n",
       "\\midrule\n",
       "\\textbf{const}      &     -36.7514  &        0.739     &   -49.737  &         0.000        &      -38.200    &      -35.303     \\\\\n",
       "\\textbf{MedInc}     &       0.4394  &        0.005     &    92.069  &         0.000        &        0.430    &        0.449     \\\\\n",
       "\\textbf{HouseAge}   &       0.0093  &        0.000     &    18.628  &         0.000        &        0.008    &        0.010     \\\\\n",
       "\\textbf{AveRooms}   &      -0.1156  &        0.007     &   -17.058  &         0.000        &       -0.129    &       -0.102     \\\\\n",
       "\\textbf{AveBedrms}  &       0.6680  &        0.032     &    21.125  &         0.000        &        0.606    &        0.730     \\\\\n",
       "\\textbf{Population} &   -1.743e-06  &     5.25e-06     &    -0.332  &         0.740        &     -1.2e-05    &     8.54e-06     \\\\\n",
       "\\textbf{AveOccup}   &      -0.0048  &        0.001     &    -8.378  &         0.000        &       -0.006    &       -0.004     \\\\\n",
       "\\textbf{Latitude}   &      -0.4185  &        0.008     &   -51.890  &         0.000        &       -0.434    &       -0.403     \\\\\n",
       "\\textbf{Longitude}  &      -0.4322  &        0.008     &   -51.181  &         0.000        &       -0.449    &       -0.416     \\\\\n",
       "\\bottomrule\n",
       "\\end{tabular}\n",
       "\\begin{tabular}{lclc}\n",
       "\\textbf{Omnibus:}       & 3574.994 & \\textbf{  Durbin-Watson:     } &     1.981  \\\\\n",
       "\\textbf{Prob(Omnibus):} &   0.000  & \\textbf{  Jarque-Bera (JB):  } & 11867.428  \\\\\n",
       "\\textbf{Skew:}          &   1.088  & \\textbf{  Prob(JB):          } &      0.00  \\\\\n",
       "\\textbf{Kurtosis:}      &   6.538  & \\textbf{  Cond. No.          } &  2.41e+05  \\\\\n",
       "\\bottomrule\n",
       "\\end{tabular}\n",
       "%\\caption{OLS Regression Results}\n",
       "\\end{center}\n",
       "\n",
       "Notes: \\newline\n",
       " [1] Standard Errors assume that the covariance matrix of the errors is correctly specified. \\newline\n",
       " [2] The condition number is large, 2.41e+05. This might indicate that there are \\newline\n",
       " strong multicollinearity or other numerical problems."
      ],
      "text/plain": [
       "<class 'statsmodels.iolib.summary.Summary'>\n",
       "\"\"\"\n",
       "                            OLS Regression Results                            \n",
       "==============================================================================\n",
       "Dep. Variable:                 Target   R-squared:                       0.606\n",
       "Model:                            OLS   Adj. R-squared:                  0.606\n",
       "Method:                 Least Squares   F-statistic:                     3178.\n",
       "Date:                Mon, 14 Apr 2025   Prob (F-statistic):               0.00\n",
       "Time:                        18:33:06   Log-Likelihood:                -18064.\n",
       "No. Observations:               16512   AIC:                         3.615e+04\n",
       "Df Residuals:                   16503   BIC:                         3.622e+04\n",
       "Df Model:                           8                                         \n",
       "Covariance Type:            nonrobust                                         \n",
       "==============================================================================\n",
       "                 coef    std err          t      P>|t|      [0.025      0.975]\n",
       "------------------------------------------------------------------------------\n",
       "const        -36.7514      0.739    -49.737      0.000     -38.200     -35.303\n",
       "MedInc         0.4394      0.005     92.069      0.000       0.430       0.449\n",
       "HouseAge       0.0093      0.000     18.628      0.000       0.008       0.010\n",
       "AveRooms      -0.1156      0.007    -17.058      0.000      -0.129      -0.102\n",
       "AveBedrms      0.6680      0.032     21.125      0.000       0.606       0.730\n",
       "Population -1.743e-06   5.25e-06     -0.332      0.740    -1.2e-05    8.54e-06\n",
       "AveOccup      -0.0048      0.001     -8.378      0.000      -0.006      -0.004\n",
       "Latitude      -0.4185      0.008    -51.890      0.000      -0.434      -0.403\n",
       "Longitude     -0.4322      0.008    -51.181      0.000      -0.449      -0.416\n",
       "==============================================================================\n",
       "Omnibus:                     3574.994   Durbin-Watson:                   1.981\n",
       "Prob(Omnibus):                  0.000   Jarque-Bera (JB):            11867.428\n",
       "Skew:                           1.088   Prob(JB):                         0.00\n",
       "Kurtosis:                       6.538   Cond. No.                     2.41e+05\n",
       "==============================================================================\n",
       "\n",
       "Notes:\n",
       "[1] Standard Errors assume that the covariance matrix of the errors is correctly specified.\n",
       "[2] The condition number is large, 2.41e+05. This might indicate that there are\n",
       "strong multicollinearity or other numerical problems.\n",
       "\"\"\""
      ]
     },
     "execution_count": 21,
     "metadata": {},
     "output_type": "execute_result"
    }
   ],
   "source": [
    "model.summary()"
   ]
  },
  {
   "cell_type": "code",
   "execution_count": 22,
   "metadata": {},
   "outputs": [
    {
     "data": {
      "text/plain": [
       "16833    2.611318\n",
       "2985     1.142664\n",
       "3079     1.215816\n",
       "13383    1.998516\n",
       "12778    0.782765\n",
       "           ...   \n",
       "1272     2.153926\n",
       "13128    1.312353\n",
       "17437    2.564084\n",
       "16534    1.764881\n",
       "15632    2.259756\n",
       "Length: 4128, dtype: float64"
      ]
     },
     "execution_count": 22,
     "metadata": {},
     "output_type": "execute_result"
    }
   ],
   "source": [
    "y_pred = model.predict(X_test_const)\n",
    "y_pred"
   ]
  },
  {
   "cell_type": "code",
   "execution_count": 23,
   "metadata": {},
   "outputs": [
    {
     "data": {
      "image/png": "[encoded data removed]",
      "text/plain": [
       "<Figure size 800x500 with 1 Axes>"
      ]
     },
     "metadata": {},
     "output_type": "display_data"
    }
   ],
   "source": [
    "plt.figure(figsize=(8,5))\n",
    "plt.scatter(y_test, y_pred)\n",
    "plt.xlabel(\"Actual\")\n",
    "plt.ylabel(\"Predicted\")\n",
    "plt.title(\"Actual vs Predicted - Statsmodels\")\n",
    "plt.show()"
   ]
  },
  {
   "cell_type": "code",
   "execution_count": null,
   "metadata": {},
   "outputs": [],
   "source": []
  }
 ],
 "metadata": {
  "kernelspec": {
   "display_name": "myenv",
   "language": "python",
   "name": "python3"
  },
  "language_info": {
   "codemirror_mode": {
    "name": "ipython",
    "version": 3
   },
   "file_extension": ".py",
   "mimetype": "text/x-python",
   "name": "python",
   "nbconvert_exporter": "python",
   "pygments_lexer": "ipython3",
   "version": "3.10.13"
  }
 },
 "nbformat": 4,
 "nbformat_minor": 2
}
